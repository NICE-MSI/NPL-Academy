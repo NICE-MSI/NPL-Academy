{
  "cells": [
    {
      "cell_type": "markdown",
      "metadata": {
        "colab_type": "text",
        "id": "view-in-github"
      },
      "source": [
        "<a href=\"https://colab.research.google.com/github/NICE-MSI/NPL-Academy/blob/main/NPL_NiCE-MSI.ipynb\" target=\"_parent\"><img src=\"https://colab.research.google.com/assets/colab-badge.svg\" alt=\"Open In Colab\"/></a>"
      ]
    },
    {
      "cell_type": "markdown",
      "metadata": {
        "id": "q--XLoo4Z325"
      },
      "source": [
        "**Using Mass Spectrometry Imaging to Map Molecules**"
      ]
    },
    {
      "cell_type": "markdown",
      "metadata": {
        "id": "4pxZ7fqqZ6jS"
      },
      "source": [
        "In this notebook, you will be able to investigate different mean spectra from some tissues of interest. You will overplot the spectra of the different tissues, study the intensity ratios of some compounds, as well as obtain a list of significant ions which drive the difference between two types of cancer tumours. You can use the \"Supporting_Material_python.pdf\" notes to help you navigate through this part of your research."
      ]
    },
    {
      "cell_type": "markdown",
      "metadata": {
        "id": "MzrTVRTqaNE3"
      },
      "source": [
        "First, we need to import the python packages that are needed to read and plot the data. (numpy, matplotlib, pandas):"
      ]
    },
    {
      "cell_type": "code",
      "execution_count": null,
      "metadata": {},
      "outputs": [],
      "source": [
        "import numpy as np\n",
        "import matplotlib.pyplot as plt\n",
        "import pandas as pd"
      ]
    },
    {
      "cell_type": "markdown",
      "metadata": {},
      "source": [
        "We clone the Mass Spectrometry data that we are going to study in this Notebook. An image of the tissues we are studing are shown in the notes, in Figure 1. "
      ]
    },
    {
      "cell_type": "code",
      "execution_count": null,
      "metadata": {},
      "outputs": [],
      "source": [
        "!git clone https://github.com/NICE-MSI/NPL-Academy.git"
      ]
    },
    {
      "cell_type": "markdown",
      "metadata": {},
      "source": [
        "We use \"pandas\" to read the file with the mean spectra of the different tissues. \n",
        "We print the file on the next cell to see its structure."
      ]
    },
    {
      "cell_type": "code",
      "execution_count": null,
      "metadata": {},
      "outputs": [],
      "source": [
        "df = pd.read_csv(\"NPL-Academy/spectra.csv\")  # read data files\n",
        "print(df)  #print data file"
      ]
    },
    {
      "cell_type": "markdown",
      "metadata": {},
      "source": [
        "As you can see, there are 7 columns in the file. The first column corresponds to the m/z values (X-axis of the spectrum). Columns 2 to 7 correspond to the intensities of the spectra for the different tissues (Y-axis).\n",
        "\n",
        "Note: You can save your figures by (more help in the support material)\n",
        "\"uncomment\" the last line (removing #)\n",
        "comment #plt.show()\n",
        "Rename \"filename\" to the name you want the figure to be called. \n",
        "Your plots will be saved in the \"outputs\" folder."
      ]
    },
    {
      "cell_type": "code",
      "execution_count": null,
      "metadata": {},
      "outputs": [],
      "source": [
        "plt.plot(df[\"m/z\"],df[\"A_APCKRAS\"], color='blue', label='tissue A-APCKRAS')\n",
        "plt.plot(df[\"m/z\"],df[\"D_APCKRAS\"], color='red', label='tissue D-APCKRAS')\n",
        "plt.legend()\n",
        "plt.show()\n",
        "#plt.savefig(\"NPL-Academy/outputs/filename.png\")\n"
      ]
    },
    {
      "cell_type": "markdown",
      "metadata": {},
      "source": [
        "- Can you overplot all the spectra in \"spectra.csv\"? Remeber to include the labels on your plot.\n",
        "\n",
        "You can customize your plot in many different ways (colors, linestyles, linewidth,...). If you want to look at all the options you can check here:\n",
        "https://matplotlib.org/stable/api/_as_gen/matplotlib.pyplot.plot.html "
      ]
    },
    {
      "cell_type": "markdown",
      "metadata": {},
      "source": [
        "You can also zoom-in into specific areas of the spectrum for a better visualisation. For example:"
      ]
    },
    {
      "cell_type": "code",
      "execution_count": null,
      "metadata": {},
      "outputs": [],
      "source": [
        "plt.plot(df[\"m/z\"],df[\"A_APCKRAS\"], color='blue', label='tissue A-APCKRAS')\n",
        "plt.xlim((300,320))\n",
        "plt.legend()\n",
        "plt.show()\n",
        "#plt.savefig(\"NPL-Academy/outputs/filename.png\")"
      ]
    },
    {
      "cell_type": "markdown",
      "metadata": {
        "id": "MWb_xvSoaa6Y"
      },
      "source": [
        "**NOISE DETERMINATION**\n",
        "\n",
        "One of the first problems we have when analysing MS data, is to differentiate signal from noise. Noise is random, meaningless signal caused mainly by the electronics within the instrument detector, that appears as a series of small peaks alongside the real data peaks. MS normally contains big amount of data, so it is important to save only the compounds of interest, and remove these unimportant peaks (noise). In this example, we can determine noise level in a basic way, obtaining the standard deviation of the mean spectrum. \n",
        "\n",
        "In the next cell we obtain the standard deviation of two of the tissues (A and D) by using the \"std\" function in the numpy package (np.std)\n",
        "- Can you obtain the standard deviation for the rest of the tissues?"
      ]
    },
    {
      "cell_type": "code",
      "execution_count": null,
      "metadata": {},
      "outputs": [],
      "source": [
        "print('standard deviation for tissue A =', np.std(df[\"A_APCKRAS\"]))\n",
        "print('standard deviation for tissue D =',np.std(df[\"D_APCKRAS\"]))"
      ]
    },
    {
      "cell_type": "markdown",
      "metadata": {},
      "source": [
        "We can use this standard deviation as a threshold to determine signal and noise.\n",
        "In the cell below we are plotting the noise in red and the signal in blue for one of the tissues.\n",
        "- Do you think this noise level is correct? "
      ]
    },
    {
      "cell_type": "code",
      "execution_count": null,
      "metadata": {},
      "outputs": [],
      "source": [
        "treshold = np.std(df[\"A_APCKRAS\"])\n",
        "plt.plot(df[\"m/z\"],df[\"A_APCKRAS\"].where(df[\"A_APCKRAS\"]<treshold), color='red', label='noise A-APCKRAS')\n",
        "plt.plot(df[\"m/z\"],df[\"A_APCKRAS\"].where(df[\"A_APCKRAS\"]>=treshold), color='blue', label='signal A-APCKRAS')\n",
        "plt.legend()\n",
        "plt.show()\n",
        "#plt.savefig(\"NPL-Academy/outputs/filename.png\")"
      ]
    },
    {
      "cell_type": "markdown",
      "metadata": {},
      "source": [
        "Let's zoom-in at one specific area to have a better visualisation."
      ]
    },
    {
      "cell_type": "code",
      "execution_count": null,
      "metadata": {},
      "outputs": [],
      "source": [
        "treshold = np.std(df[\"A_APCKRAS\"])\n",
        "\n",
        "plt.plot(df[\"m/z\"],df[\"A_APCKRAS\"].where(df[\"A_APCKRAS\"]<treshold), color='red', label='noise A-APCKRAS')\n",
        "plt.plot(df[\"m/z\"],df[\"A_APCKRAS\"].where(df[\"A_APCKRAS\"]>=treshold), color='blue', label='signal A-APCKRAS')\n",
        "plt.xlim((310,320))\n",
        "plt.ylim((-1E5,6E5))\n",
        "plt.legend()\n",
        "plt.show()\n",
        "#plt.savefig(\"NPL-Academy/outputs/filename.png\")"
      ]
    },
    {
      "cell_type": "markdown",
      "metadata": {},
      "source": [
        "- Can you lower the noise level for this spectrum? Use the cell above to determin the noise level that you think could be best in this case. \n",
        "- What appens in other areas of this spectrum? Can you use the same noise threshold for all the spectrum?\n",
        "- Can you compare the noise threhold for each of the spectra for the different tissues? Can you use the same threshold for all the spectrum to remove noise properly?"
      ]
    },
    {
      "cell_type": "markdown",
      "metadata": {},
      "source": [
        "**INTENSITY RATIOS**\n",
        "\n",
        "To study what compounds are more relevant in each type of tissues (i.e. APC and APCKRAS), we can study the intensity ratios between peaks of the mean spectra of these tissues.\n",
        "We provide you here with a list of 80 common peaks among the tissues. This file has 7 columns, the m/z value and the intensities for each of the 6 tissues we are working with."
      ]
    },
    {
      "cell_type": "code",
      "execution_count": null,
      "metadata": {},
      "outputs": [],
      "source": [
        "peaks = pd.read_csv(\"NPL-Academy/top80_peaks.csv\")  # read data files\n",
        "print(peaks)  #print data file"
      ]
    },
    {
      "cell_type": "markdown",
      "metadata": {},
      "source": [
        "To study the intensity ratio of the compounds for the APC vs APCKRAS tissues, we create the mean of all APCKRA tissues and the mean of all APC tissues. Then we can calculate their ratios.\n",
        "In the next cell we creat a new column in the table called \"mean APCKRAS\". \n",
        "- Can you add another column called \"mean APC\"? \n",
        "\n",
        "Note: Python numerates the first column of the table as 0. You can see the names of the columns using print(peaks.columns)"
      ]
    },
    {
      "cell_type": "code",
      "execution_count": null,
      "metadata": {},
      "outputs": [],
      "source": [
        "peaks['mean APCKRAS'] = peaks.iloc[:, [1,5,6]].mean(axis=1)\n",
        "\n",
        "print(peaks)"
      ]
    },
    {
      "cell_type": "markdown",
      "metadata": {},
      "source": [
        "Once you have these two new columns, we create a new column called 'ratio'.  "
      ]
    },
    {
      "cell_type": "code",
      "execution_count": null,
      "metadata": {},
      "outputs": [],
      "source": [
        "peaks['ratio'] = peaks['mean APCKRAS']/peaks['mean APC']"
      ]
    },
    {
      "cell_type": "markdown",
      "metadata": {},
      "source": [
        "We can select the top 5 ions whose ratio is greater in APCKRAS."
      ]
    },
    {
      "cell_type": "code",
      "execution_count": null,
      "metadata": {},
      "outputs": [],
      "source": [
        "\n",
        "print(peaks.nlargest(5,'ratio'))"
      ]
    },
    {
      "cell_type": "markdown",
      "metadata": {},
      "source": [
        "- Can you identify the top 5 ions whose ratio is greater in APC?\n",
        "- You can study the single ion images in the supporting material folder...."
      ]
    },
    {
      "cell_type": "markdown",
      "metadata": {},
      "source": [
        "**T-TEST**\n",
        "\n",
        "The previous method to find relevant compounds is not very robust. Instead, scientist normally use the so-called t-test (among others).\n",
        "The t-test gives us information about how similar or different two different samples are. In this instance, we are going to focus in the tumour areas of the tissues. In the supplementary material (Figure 4), you can find an image where the tumour regions are plotted in yellow for the A_APCKRAS, D_APCKRAS, C_APC and G_APC tissues. We performed a t-test analysis between the APCKRAS vs APC tumours across all pixels. \n",
        "The t-test will provide you two different parameters, t-value and p-value.\n",
        "\n",
        "The t-value is a ratio between the difference between two groups and the difference within the groups.\n",
        "- Larger t-values = more difference between groups.\n",
        "- Smaller t-values = more similarity between groups.\n",
        "\n",
        "The p-value from a t-test is the probability that the results from your sample data occurred by chance. P-values can vary from 0% to 100% and are usually written as a decimal (for example, a p value of 5% is 0.05). Low p-values indicate your data did not occur by chance. For example, a p-value of 0.01 means there is only a 1% probability that the results from an experiment happened by chance, therefore this compounds will be of high sifnificance for our data analysis. "
      ]
    },
    {
      "cell_type": "markdown",
      "metadata": {},
      "source": [
        "We have prepared a table for you with the t-test results of the comparison between the APCKRAS and the APC tumours. The table is called \"t_test_tumours.csv\". \n",
        "- Can you load the table with pandas?\n",
        "- Can you read the table?"
      ]
    },
    {
      "cell_type": "code",
      "execution_count": null,
      "metadata": {},
      "outputs": [],
      "source": [
        "\n",
        "t_test = #Load the table in here \n",
        "print() #print the table"
      ]
    },
    {
      "cell_type": "markdown",
      "metadata": {},
      "source": [
        "From this table:\n",
        "- Can you identify the top 5 t-values which provide the bigger differences between the groups? (Hint: you can use one of the two function, \"nsmallest\" or \"nlargest\")\n",
        "- What are the p-values of these ions?\n",
        "- Will using a ratio provide different results to using t-test?\n",
        "- Find the images for these ions. Can you comment on them? Which ions you think are more relevant for further analysis?\n",
        "- Select the two more relevant ions."
      ]
    },
    {
      "cell_type": "code",
      "execution_count": null,
      "metadata": {},
      "outputs": [],
      "source": [
        "print() #print the top-5 t-values and their p-values. \n",
        "!cp \"NPL-Academy/outputs/images\" \"/content/drive/My Drive/\""
      ]
    },
    {
      "cell_type": "markdown",
      "metadata": {},
      "source": [
        "Now that you have the 2 most significant ions in this sample, you can research what these ions are in the HMBD database."
      ]
    }
  ],
  "metadata": {
    "colab": {
      "authorship_tag": "ABX9TyM40nBwQDY7evd+aKCRtcm/",
      "include_colab_link": true,
      "name": "NPL_NICE-MSI.ipynb",
      "provenance": []
    },
    "kernelspec": {
      "display_name": "Python 3",
      "name": "python3"
    },
    "language_info": {
      "name": "python",
      "version": "3.9.2-final"
    }
  },
  "nbformat": 4,
  "nbformat_minor": 0
}
