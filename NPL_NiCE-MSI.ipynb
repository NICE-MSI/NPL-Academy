{
  "cells": [
    {
      "cell_type": "markdown",
      "metadata": {
        "colab_type": "text",
        "id": "view-in-github"
      },
      "source": [
        "<a href=\"https://colab.research.google.com/github/NICE-MSI/NPL-Academy/blob/main/NPL_NiCE-MSI.ipynb\" target=\"_parent\"><img src=\"https://colab.research.google.com/assets/colab-badge.svg\" alt=\"Open In Colab\"/></a>"
      ]
    },
    {
      "cell_type": "markdown",
      "metadata": {
        "id": "q--XLoo4Z325"
      },
      "source": [
        "**Using Mass Spectrometry Imaging to Map Molecules**"
      ]
    },
    {
      "cell_type": "markdown",
      "metadata": {
        "id": "4pxZ7fqqZ6jS"
      },
      "source": [
        "In this notebook, you will be able to investigate different mean spectra from some tissues of interest. You will overplot spectra from the different tissues, study the intensity ratios of different compounds of interest, as well as ....."
      ]
    },
    {
      "cell_type": "markdown",
      "metadata": {
        "id": "MzrTVRTqaNE3"
      },
      "source": [
        "First, we need to import the python packages that are needed to read and plot the data (numpy, matplotlib, pandas):"
      ]
    },
    {
      "cell_type": "code",
      "execution_count": null,
      "metadata": {},
      "outputs": [],
      "source": [
        "import numpy as np\n",
        "import matplotlib.pyplot as plt\n",
        "import pandas as pd"
      ]
    },
    {
      "cell_type": "markdown",
      "metadata": {},
      "source": [
        "Next, we clone the Mass Spectrometry Imaging data that we are going to study into this Notebook."
      ]
    },
    {
      "cell_type": "code",
      "execution_count": null,
      "metadata": {},
      "outputs": [],
      "source": [
        "!git clone https://github.com/NICE-MSI/NPL-Academy.git"
      ]
    },
    {
      "cell_type": "markdown",
      "metadata": {},
      "source": [
        "We use \"pandas\" (a python package) to read the file where all the mean spectra are located. \n",
        "We print on screen the file, so we can see the structure of the file."
      ]
    },
    {
      "cell_type": "code",
      "execution_count": null,
      "metadata": {},
      "outputs": [],
      "source": [
        "df = pd.read_csv(\"NPL-Academy/spectra.csv\", index_col=False)  # read data files\n",
        "print(df)  #print data file"
      ]
    },
    {
      "cell_type": "markdown",
      "metadata": {
        "id": "MWb_xvSoaa6Y"
      },
      "source": [
        "As you can see, there are 5 columns in the file. The first column corresponds to the m/z values (X-axis of the spectra). Columns 2 to 5 correspond to the intensities of the spectra for the different tissues (Y-axis)."
      ]
    },
    {
      "cell_type": "code",
      "execution_count": null,
      "metadata": {},
      "outputs": [],
      "source": [
        "plt.plot(df[\"m/z\"],df[\"A_APCKRAS\"], color='blue', label='tissue A-APCKRAS')\n",
        "plt.legend()\n",
        "plt.show()"
      ]
    },
    {
      "cell_type": "code",
      "execution_count": null,
      "metadata": {},
      "outputs": [],
      "source": [
        "Can you overplot the other spectra? Remeber to include the labels on your plot.\n",
        "You can customize your plot in many different ways. ..."
      ]
    },
    {
      "cell_type": "markdown",
      "metadata": {},
      "source": [
        "You can zoom in in specific areas of the spectrum to observe the difference between spectra.\n",
        "For example:"
      ]
    },
    {
      "cell_type": "code",
      "execution_count": null,
      "metadata": {},
      "outputs": [],
      "source": [
        "plt.plot(df[\"m/z\"],df[\"A_APCKRAS\"], color='blue', label='tissue A-APCKRAS')\n",
        "plt.xlim((400,420))\n",
        "plt.show()"
      ]
    },
    {
      "cell_type": "markdown",
      "metadata": {},
      "source": []
    }
  ],
  "metadata": {
    "colab": {
      "authorship_tag": "ABX9TyM40nBwQDY7evd+aKCRtcm/",
      "include_colab_link": true,
      "name": "NPL_NICE-MSI.ipynb",
      "provenance": []
    },
    "kernelspec": {
      "display_name": "Python 3",
      "name": "python3"
    },
    "language_info": {
      "name": "python",
      "version": "3.9.2-final"
    }
  },
  "nbformat": 4,
  "nbformat_minor": 0
}
