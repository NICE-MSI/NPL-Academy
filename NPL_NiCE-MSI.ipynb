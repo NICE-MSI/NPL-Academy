{
  "cells": [
    {
      "cell_type": "markdown",
      "metadata": {
        "colab_type": "text",
        "id": "view-in-github"
      },
      "source": [
        "<a href=\"https://colab.research.google.com/github/NICE-MSI/NPL-Academy/blob/main/NPL_NiCE-MSI.ipynb\" target=\"_parent\"><img src=\"https://colab.research.google.com/assets/colab-badge.svg\" alt=\"Open In Colab\"/></a>"
      ]
    },
    {
      "cell_type": "markdown",
      "metadata": {
        "id": "q--XLoo4Z325"
      },
      "source": [
        "**Using Mass Spectrometry Imaging to Map Molecules**"
      ]
    },
    {
      "cell_type": "markdown",
      "metadata": {
        "id": "4pxZ7fqqZ6jS"
      },
      "source": [
        "In this notebook, you will be able to investigate different mean spectra from some tissues of interest. You will overplot spectra from the different tissues, study the intensity ratios of different compounds of interest, as well as ....."
      ]
    },
    {
      "cell_type": "code",
      "execution_count": null,
      "metadata": {},
      "outputs": [],
      "source": [
        "![alt text](NPL-Academy/tissues-image.png \"Title\")"
      ]
    },
    {
      "cell_type": "markdown",
      "metadata": {
        "id": "MzrTVRTqaNE3"
      },
      "source": [
        "First, we need to import the python packages that are needed to read and plot the data. (numpy, matplotlib, pandas):"
      ]
    },
    {
      "cell_type": "code",
      "execution_count": null,
      "metadata": {},
      "outputs": [],
      "source": [
        "import numpy as np\n",
        "import matplotlib.pyplot as plt\n",
        "import pandas as pd"
      ]
    },
    {
      "cell_type": "markdown",
      "metadata": {},
      "source": [
        "We clone the Mass Spectrometry Imaging data that we are going to study in this Notebook."
      ]
    },
    {
      "cell_type": "code",
      "execution_count": null,
      "metadata": {},
      "outputs": [],
      "source": [
        "!git clone https://github.com/NICE-MSI/NPL-Academy.git"
      ]
    },
    {
      "cell_type": "markdown",
      "metadata": {},
      "source": [
        "We use \"pandas\" (python package) to read the file with the mean spectra of the different tissues. \n",
        "We can print the file on the next cell to see its structure."
      ]
    },
    {
      "cell_type": "code",
      "execution_count": null,
      "metadata": {},
      "outputs": [],
      "source": [
        "df = pd.read_csv(\"NPL-Academy/spectra.csv\", index_col=None)  # read data files\n",
        "print(df)  #print data file"
      ]
    },
    {
      "cell_type": "markdown",
      "metadata": {},
      "source": [
        "As you can see, there are 6 columns in the file. The first column corresponds to the m/z values (X-axis of the spectrum). Columns 2 to 6 correspond to the intensities of the spectra for the different tissues (Y-axis).\n",
        "\n",
        "Note: You can save your figures by \"uncomment\" the last line (removing #), but you need to comment #plt.show() for the figure to be saved. Your plots will be saved in the \"ouputs\" folder."
      ]
    },
    {
      "cell_type": "code",
      "execution_count": null,
      "metadata": {},
      "outputs": [],
      "source": [
        "plt.plot(df[\"m/z\"],df[\"A_APCKRAS\"], color='blue', label='tissue A-APCKRAS')\n",
        "plt.plot(df[\"m/z\"],df[\"D_APCKRAS\"], color='red', label='tissue D-APCKRAS')\n",
        "plt.legend()\n",
        "plt.show()\n",
        "#plt.savefig(\"C:/Users/ag12/PycharmProjects/NPL-Academy/outputs/tissue_spectra.png\")\n"
      ]
    },
    {
      "cell_type": "markdown",
      "metadata": {},
      "source": [
        "Can you overplot all the spectra in \"spectra.csv\"? Remeber to include the labels on your plot.\n",
        "You can customize your plot in many different ways (colors, linestyles, linewidth,...). If you want to look at all the options you can check here:\n",
        "https://matplotlib.org/stable/api/_as_gen/matplotlib.pyplot.plot.html "
      ]
    },
    {
      "cell_type": "markdown",
      "metadata": {},
      "source": [
        "You can also zoom-in into specific areas of the spectrum for a better visualisation. For example:"
      ]
    },
    {
      "cell_type": "code",
      "execution_count": null,
      "metadata": {},
      "outputs": [],
      "source": [
        "plt.plot(df[\"m/z\"],df[\"A_APCKRAS\"], color='blue', label='tissue A-APCKRAS')\n",
        "plt.xlim((300,320))\n",
        "plt.show()"
      ]
    },
    {
      "cell_type": "markdown",
      "metadata": {
        "id": "MWb_xvSoaa6Y"
      },
      "source": [
        "Noise determination:\n",
        "One of the first problems we have when analysing MSI data, is to differentiate signal from noise. MSI normally contains big amount of data, so it is important to save only the compounds of interest, and remove the noise. In this example, we can determine noise level in a basic way, obtaining the standard deviation of the mean spectrum. \n",
        "\n",
        "In the next cell we obtain the standard deviation of two of the tissues (A and D) by using the \"std\" function in the numpy package (np.std)"
      ]
    },
    {
      "cell_type": "code",
      "execution_count": null,
      "metadata": {},
      "outputs": [],
      "source": [
        "print('standard deviation for tissue A=', np.std(df[\"A_APCKRAS\"]))\n",
        "print('standard deviation for tissue D=',np.std(df[\"D_APCKRAS\"]))"
      ]
    },
    {
      "cell_type": "markdown",
      "metadata": {},
      "source": [
        "We can use this standard deviation as a threshold to determine signal and noise.\n",
        "In the cell below we are plotting the noise in red and the signal in blue."
      ]
    },
    {
      "cell_type": "code",
      "execution_count": null,
      "metadata": {},
      "outputs": [],
      "source": [
        "treshold = np.std(df[\"A_APCKRAS\"])\n",
        "plt.plot(df[\"m/z\"],df[\"A_APCKRAS\"].where(df[\"A_APCKRAS\"]<treshold), color='red', label='noise A-APCKRAS')\n",
        "plt.plot(df[\"m/z\"],df[\"A_APCKRAS\"].where(df[\"A_APCKRAS\"]>=treshold), color='blue', label='signal A-APCKRAS')\n",
        "plt.legend()\n",
        "plt.show()"
      ]
    },
    {
      "cell_type": "markdown",
      "metadata": {},
      "source": [
        "Do you think this noise level is correct? \n",
        "Let's zoom-in at one specific area to have a better visualisation."
      ]
    },
    {
      "cell_type": "code",
      "execution_count": null,
      "metadata": {},
      "outputs": [],
      "source": [
        "treshold = np.std(df[\"A_APCKRAS\"])\n",
        "\n",
        "plt.plot(df[\"m/z\"],df[\"A_APCKRAS\"].where(df[\"A_APCKRAS\"]<treshold), color='blue', label='noise A-APCKRAS')\n",
        "plt.plot(df[\"m/z\"],df[\"A_APCKRAS\"].where(df[\"A_APCKRAS\"]>=treshold), color='red', label='signal A-APCKRAS')\n",
        "plt.xlim((410,420))\n",
        "plt.ylim((-2,40))\n",
        "plt.legend()\n",
        "plt.show()\n",
        "#plt.savefig(\"C:/Users/ag12/PycharmProjects/NPL-Academy/outputs/Noise_level.png\")"
      ]
    },
    {
      "cell_type": "markdown",
      "metadata": {},
      "source": [
        "Can you lower the noise level for this spectrum? Use the cell above to determin the noise level that you think could be best in this case. "
      ]
    },
    {
      "cell_type": "markdown",
      "metadata": {},
      "source": [
        "Can you investigate what happens in other areas of the spectrum when you use different tresholds? Can you use the same threshold for all the spectrum to remove noise properly?\n",
        "\n",
        "Remeber to safe some plots for your presentation on Friday."
      ]
    }
  ],
  "metadata": {
    "colab": {
      "authorship_tag": "ABX9TyM40nBwQDY7evd+aKCRtcm/",
      "include_colab_link": true,
      "name": "NPL_NICE-MSI.ipynb",
      "provenance": []
    },
    "kernelspec": {
      "display_name": "Python 3",
      "name": "python3"
    },
    "language_info": {
      "name": "python",
      "version": "3.9.2-final"
    }
  },
  "nbformat": 4,
  "nbformat_minor": 0
}
